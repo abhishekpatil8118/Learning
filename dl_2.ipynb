{
 "cells": [
  {
   "cell_type": "code",
   "execution_count": 1,
   "id": "be9e775d-b9f3-4ec0-b84b-70eb7ef73a12",
   "metadata": {},
   "outputs": [],
   "source": [
    "import tensorflow as tf \n",
    "from tensorflow.keras.datasets import imdb \n",
    "from tensorflow.keras.preprocessing.sequence import pad_sequences \n",
    "from tensorflow.keras.models import Sequential \n",
    "from tensorflow.keras.layers import Embedding, Dense, GlobalAveragePooling1D, Dropout"
   ]
  },
  {
   "cell_type": "code",
   "execution_count": 2,
   "id": "7a6ac71a-a089-43a5-9896-66d62942f47d",
   "metadata": {},
   "outputs": [],
   "source": [
    "(X_train, y_train), (X_test, y_test) = imdb.load_data(num_words=10000) \n",
    "X_train = pad_sequences(X_train, maxlen=200) \n",
    "X_test = pad_sequences(X_test, maxlen=200) "
   ]
  },
  {
   "cell_type": "code",
   "execution_count": 3,
   "id": "df20ffdf-e4db-4136-becd-46bb1449e4a2",
   "metadata": {},
   "outputs": [],
   "source": [
    "model = Sequential([ \n",
    "Embedding(10000, 32),\n",
    "Dense(128, activation='relu'),\n",
    "Dropout(0.2),\n",
    "GlobalAveragePooling1D(), \n",
    "Dense(1, activation='sigmoid') \n",
    "]) "
   ]
  },
  {
   "cell_type": "code",
   "execution_count": 4,
   "id": "f4490f17-aee7-4dfd-9e65-7119c0647932",
   "metadata": {},
   "outputs": [
    {
     "name": "stdout",
     "output_type": "stream",
     "text": [
      "Epoch 1/10\n",
      "\u001b[1m391/391\u001b[0m \u001b[32m━━━━━━━━━━━━━━━━━━━━\u001b[0m\u001b[37m\u001b[0m \u001b[1m21s\u001b[0m 46ms/step - accuracy: 0.6447 - loss: 0.6165 - val_accuracy: 0.8584 - val_loss: 0.3423\n",
      "Epoch 2/10\n",
      "\u001b[1m391/391\u001b[0m \u001b[32m━━━━━━━━━━━━━━━━━━━━\u001b[0m\u001b[37m\u001b[0m \u001b[1m17s\u001b[0m 37ms/step - accuracy: 0.8856 - loss: 0.2931 - val_accuracy: 0.8753 - val_loss: 0.2967\n",
      "Epoch 3/10\n",
      "\u001b[1m391/391\u001b[0m \u001b[32m━━━━━━━━━━━━━━━━━━━━\u001b[0m\u001b[37m\u001b[0m \u001b[1m21s\u001b[0m 38ms/step - accuracy: 0.9153 - loss: 0.2260 - val_accuracy: 0.8770 - val_loss: 0.2917\n",
      "Epoch 4/10\n",
      "\u001b[1m391/391\u001b[0m \u001b[32m━━━━━━━━━━━━━━━━━━━━\u001b[0m\u001b[37m\u001b[0m \u001b[1m22s\u001b[0m 41ms/step - accuracy: 0.9286 - loss: 0.1916 - val_accuracy: 0.8758 - val_loss: 0.2975\n",
      "Epoch 5/10\n",
      "\u001b[1m391/391\u001b[0m \u001b[32m━━━━━━━━━━━━━━━━━━━━\u001b[0m\u001b[37m\u001b[0m \u001b[1m15s\u001b[0m 38ms/step - accuracy: 0.9409 - loss: 0.1659 - val_accuracy: 0.8736 - val_loss: 0.3114\n",
      "Epoch 6/10\n",
      "\u001b[1m391/391\u001b[0m \u001b[32m━━━━━━━━━━━━━━━━━━━━\u001b[0m\u001b[37m\u001b[0m \u001b[1m20s\u001b[0m 38ms/step - accuracy: 0.9492 - loss: 0.1493 - val_accuracy: 0.8694 - val_loss: 0.3313\n",
      "Epoch 7/10\n",
      "\u001b[1m391/391\u001b[0m \u001b[32m━━━━━━━━━━━━━━━━━━━━\u001b[0m\u001b[37m\u001b[0m \u001b[1m19s\u001b[0m 48ms/step - accuracy: 0.9573 - loss: 0.1287 - val_accuracy: 0.8654 - val_loss: 0.3559\n",
      "Epoch 8/10\n",
      "\u001b[1m391/391\u001b[0m \u001b[32m━━━━━━━━━━━━━━━━━━━━\u001b[0m\u001b[37m\u001b[0m \u001b[1m17s\u001b[0m 44ms/step - accuracy: 0.9646 - loss: 0.1108 - val_accuracy: 0.8616 - val_loss: 0.3873\n",
      "Epoch 9/10\n",
      "\u001b[1m391/391\u001b[0m \u001b[32m━━━━━━━━━━━━━━━━━━━━\u001b[0m\u001b[37m\u001b[0m \u001b[1m15s\u001b[0m 39ms/step - accuracy: 0.9714 - loss: 0.0968 - val_accuracy: 0.8583 - val_loss: 0.4195\n",
      "Epoch 10/10\n",
      "\u001b[1m391/391\u001b[0m \u001b[32m━━━━━━━━━━━━━━━━━━━━\u001b[0m\u001b[37m\u001b[0m \u001b[1m21s\u001b[0m 40ms/step - accuracy: 0.9728 - loss: 0.0898 - val_accuracy: 0.8550 - val_loss: 0.4561\n"
     ]
    },
    {
     "data": {
      "text/plain": [
       "<keras.src.callbacks.history.History at 0x18855dcea70>"
      ]
     },
     "execution_count": 4,
     "metadata": {},
     "output_type": "execute_result"
    }
   ],
   "source": [
    "model.compile(optimizer='adam', loss='binary_crossentropy', metrics=['accuracy']) \n",
    "model.fit(X_train, y_train, epochs=5, batch_size=64, validation_data=(X_test, y_test)) "
   ]
  },
  {
   "cell_type": "code",
   "execution_count": 5,
   "id": "8ed3aa0e-671a-4114-80e8-c536caf7d77d",
   "metadata": {},
   "outputs": [],
   "source": [
    "from tensorflow.math import confusion_matrix "
   ]
  },
  {
   "cell_type": "code",
   "execution_count": 6,
   "id": "87d96552-77b9-4787-ab9a-99b4b2fcafd1",
   "metadata": {},
   "outputs": [
    {
     "name": "stdout",
     "output_type": "stream",
     "text": [
      "\u001b[1m782/782\u001b[0m \u001b[32m━━━━━━━━━━━━━━━━━━━━\u001b[0m\u001b[37m\u001b[0m \u001b[1m3s\u001b[0m 4ms/step\n"
     ]
    }
   ],
   "source": [
    "pred = model.predict(X_test)"
   ]
  },
  {
   "cell_type": "code",
   "execution_count": 7,
   "id": "e1432e48-6516-4cb0-b8d8-83fa2db0425a",
   "metadata": {},
   "outputs": [],
   "source": [
    "matrix = confusion_matrix(pred, y_test)"
   ]
  },
  {
   "cell_type": "code",
   "execution_count": 8,
   "id": "e94bf863-316d-4487-860c-8d9adb0b0c7a",
   "metadata": {},
   "outputs": [
    {
     "data": {
      "text/plain": [
       "<tf.Tensor: shape=(2, 2), dtype=int32, numpy=\n",
       "array([[12499, 12347],\n",
       "       [    1,   153]], dtype=int32)>"
      ]
     },
     "execution_count": 8,
     "metadata": {},
     "output_type": "execute_result"
    }
   ],
   "source": [
    "matrix"
   ]
  },
  {
   "cell_type": "code",
   "execution_count": 12,
   "id": "e6521d31-10a9-4fd5-9884-bb057d239cb4",
   "metadata": {},
   "outputs": [
    {
     "name": "stdout",
     "output_type": "stream",
     "text": [
      "Collecting seaborn\n",
      "  Downloading seaborn-0.13.2-py3-none-any.whl (294 kB)\n",
      "     ---------------------------------------- 0.0/294.9 kB ? eta -:--:--\n",
      "     -------- ------------------------------ 61.4/294.9 kB 1.1 MB/s eta 0:00:01\n",
      "     --------------- ---------------------- 122.9/294.9 kB 1.2 MB/s eta 0:00:01\n",
      "     ------------------------- ------------ 194.6/294.9 kB 1.3 MB/s eta 0:00:01\n",
      "     ----------------------------------- -- 276.5/294.9 kB 1.4 MB/s eta 0:00:01\n",
      "     -------------------------------------- 294.9/294.9 kB 1.4 MB/s eta 0:00:00\n",
      "Requirement already satisfied: numpy!=1.24.0,>=1.20 in c:\\users\\patil\\tf-env\\lib\\site-packages (from seaborn) (2.1.3)\n",
      "Requirement already satisfied: matplotlib!=3.6.1,>=3.4 in c:\\users\\patil\\tf-env\\lib\\site-packages (from seaborn) (3.10.1)\n",
      "Collecting pandas>=1.2\n",
      "  Downloading pandas-2.2.3-cp310-cp310-win_amd64.whl (11.6 MB)\n",
      "     ---------------------------------------- 0.0/11.6 MB ? eta -:--:--\n",
      "     ---------------------------------------- 0.1/11.6 MB 4.3 MB/s eta 0:00:03\n",
      "      --------------------------------------- 0.2/11.6 MB 3.6 MB/s eta 0:00:04\n",
      "     - -------------------------------------- 0.4/11.6 MB 3.0 MB/s eta 0:00:04\n",
      "     - -------------------------------------- 0.5/11.6 MB 3.4 MB/s eta 0:00:04\n",
      "     -- ------------------------------------- 0.7/11.6 MB 3.5 MB/s eta 0:00:04\n",
      "     --- ------------------------------------ 0.9/11.6 MB 3.8 MB/s eta 0:00:03\n",
      "     --- ------------------------------------ 1.1/11.6 MB 3.4 MB/s eta 0:00:04\n",
      "     ----- ---------------------------------- 1.5/11.6 MB 4.2 MB/s eta 0:00:03\n",
      "     ----- ---------------------------------- 1.7/11.6 MB 4.2 MB/s eta 0:00:03\n",
      "     ------ --------------------------------- 1.8/11.6 MB 4.1 MB/s eta 0:00:03\n",
      "     ------- -------------------------------- 2.2/11.6 MB 4.4 MB/s eta 0:00:03\n",
      "     -------- ------------------------------- 2.5/11.6 MB 4.5 MB/s eta 0:00:03\n",
      "     --------- ------------------------------ 2.7/11.6 MB 4.6 MB/s eta 0:00:02\n",
      "     ---------- ----------------------------- 3.1/11.6 MB 4.9 MB/s eta 0:00:02\n",
      "     ----------- ---------------------------- 3.4/11.6 MB 4.9 MB/s eta 0:00:02\n",
      "     ------------ --------------------------- 3.8/11.6 MB 5.0 MB/s eta 0:00:02\n",
      "     ------------- -------------------------- 4.0/11.6 MB 5.0 MB/s eta 0:00:02\n",
      "     -------------- ------------------------- 4.2/11.6 MB 5.0 MB/s eta 0:00:02\n",
      "     --------------- ------------------------ 4.4/11.6 MB 5.0 MB/s eta 0:00:02\n",
      "     ---------------- ----------------------- 4.7/11.6 MB 5.1 MB/s eta 0:00:02\n",
      "     ---------------- ----------------------- 4.8/11.6 MB 5.1 MB/s eta 0:00:02\n",
      "     ----------------- ---------------------- 5.0/11.6 MB 4.9 MB/s eta 0:00:02\n",
      "     ------------------ --------------------- 5.4/11.6 MB 5.2 MB/s eta 0:00:02\n",
      "     -------------------- ------------------- 5.9/11.6 MB 5.3 MB/s eta 0:00:02\n",
      "     ---------------------- ----------------- 6.4/11.6 MB 5.6 MB/s eta 0:00:01\n",
      "     ---------------------- ----------------- 6.6/11.6 MB 5.5 MB/s eta 0:00:01\n",
      "     ----------------------- ---------------- 7.0/11.6 MB 5.6 MB/s eta 0:00:01\n",
      "     ------------------------- -------------- 7.3/11.6 MB 5.5 MB/s eta 0:00:01\n",
      "     -------------------------- ------------- 7.7/11.6 MB 5.7 MB/s eta 0:00:01\n",
      "     -------------------------- ------------- 7.8/11.6 MB 5.6 MB/s eta 0:00:01\n",
      "     --------------------------- ------------ 7.9/11.6 MB 5.4 MB/s eta 0:00:01\n",
      "     ---------------------------- ----------- 8.2/11.6 MB 5.5 MB/s eta 0:00:01\n",
      "     ------------------------------ --------- 8.8/11.6 MB 5.7 MB/s eta 0:00:01\n",
      "     ------------------------------- -------- 9.1/11.6 MB 5.7 MB/s eta 0:00:01\n",
      "     -------------------------------- ------- 9.4/11.6 MB 5.8 MB/s eta 0:00:01\n",
      "     --------------------------------- ------ 9.7/11.6 MB 5.8 MB/s eta 0:00:01\n",
      "     ---------------------------------- ----- 10.1/11.6 MB 5.8 MB/s eta 0:00:01\n",
      "     ----------------------------------- ---- 10.4/11.6 MB 6.0 MB/s eta 0:00:01\n",
      "     ------------------------------------- -- 10.8/11.6 MB 6.2 MB/s eta 0:00:01\n",
      "     -------------------------------------- - 11.0/11.6 MB 6.3 MB/s eta 0:00:01\n",
      "     ---------------------------------------  11.4/11.6 MB 6.5 MB/s eta 0:00:01\n",
      "     ---------------------------------------  11.6/11.6 MB 6.3 MB/s eta 0:00:01\n",
      "     ---------------------------------------  11.6/11.6 MB 6.3 MB/s eta 0:00:01\n",
      "     ---------------------------------------- 11.6/11.6 MB 6.0 MB/s eta 0:00:00\n",
      "Requirement already satisfied: pillow>=8 in c:\\users\\patil\\tf-env\\lib\\site-packages (from matplotlib!=3.6.1,>=3.4->seaborn) (11.2.1)\n",
      "Requirement already satisfied: kiwisolver>=1.3.1 in c:\\users\\patil\\tf-env\\lib\\site-packages (from matplotlib!=3.6.1,>=3.4->seaborn) (1.4.8)\n",
      "Requirement already satisfied: cycler>=0.10 in c:\\users\\patil\\tf-env\\lib\\site-packages (from matplotlib!=3.6.1,>=3.4->seaborn) (0.12.1)\n",
      "Requirement already satisfied: fonttools>=4.22.0 in c:\\users\\patil\\tf-env\\lib\\site-packages (from matplotlib!=3.6.1,>=3.4->seaborn) (4.57.0)\n",
      "Requirement already satisfied: python-dateutil>=2.7 in c:\\users\\patil\\tf-env\\lib\\site-packages (from matplotlib!=3.6.1,>=3.4->seaborn) (2.9.0.post0)\n",
      "Requirement already satisfied: pyparsing>=2.3.1 in c:\\users\\patil\\tf-env\\lib\\site-packages (from matplotlib!=3.6.1,>=3.4->seaborn) (3.2.3)\n",
      "Requirement already satisfied: packaging>=20.0 in c:\\users\\patil\\tf-env\\lib\\site-packages (from matplotlib!=3.6.1,>=3.4->seaborn) (25.0)\n",
      "Requirement already satisfied: contourpy>=1.0.1 in c:\\users\\patil\\tf-env\\lib\\site-packages (from matplotlib!=3.6.1,>=3.4->seaborn) (1.3.2)\n",
      "Collecting pytz>=2020.1\n",
      "  Downloading pytz-2025.2-py2.py3-none-any.whl (509 kB)\n",
      "     ---------------------------------------- 0.0/509.2 kB ? eta -:--:--\n",
      "     --------------- ---------------------- 204.8/509.2 kB 6.1 MB/s eta 0:00:01\n",
      "     ----------------------------- -------- 389.1/509.2 kB 4.0 MB/s eta 0:00:01\n",
      "     -------------------------------------- 509.2/509.2 kB 4.0 MB/s eta 0:00:00\n",
      "Collecting tzdata>=2022.7\n",
      "  Downloading tzdata-2025.2-py2.py3-none-any.whl (347 kB)\n",
      "     ---------------------------------------- 0.0/347.8 kB ? eta -:--:--\n",
      "     ------------------------------- ------ 286.7/347.8 kB 8.9 MB/s eta 0:00:01\n",
      "     ------------------------------------ - 337.9/347.8 kB 7.0 MB/s eta 0:00:01\n",
      "     -------------------------------------- 347.8/347.8 kB 4.3 MB/s eta 0:00:00\n",
      "Requirement already satisfied: six>=1.5 in c:\\users\\patil\\tf-env\\lib\\site-packages (from python-dateutil>=2.7->matplotlib!=3.6.1,>=3.4->seaborn) (1.17.0)\n",
      "Installing collected packages: pytz, tzdata, pandas, seaborn\n",
      "Successfully installed pandas-2.2.3 pytz-2025.2 seaborn-0.13.2 tzdata-2025.2\n"
     ]
    },
    {
     "name": "stderr",
     "output_type": "stream",
     "text": [
      "\n",
      "[notice] A new release of pip is available: 23.0.1 -> 25.1.1\n",
      "[notice] To update, run: python.exe -m pip install --upgrade pip\n"
     ]
    }
   ],
   "source": [
    "!pip install seaborn"
   ]
  },
  {
   "cell_type": "code",
   "execution_count": 13,
   "id": "4c3278e1-0162-47c7-8384-319581e78739",
   "metadata": {},
   "outputs": [],
   "source": [
    "import matplotlib.pyplot as plt\n",
    "import seaborn as sns"
   ]
  },
  {
   "cell_type": "code",
   "execution_count": 16,
   "id": "85061788-f786-4c9a-9d57-61c6d128899b",
   "metadata": {},
   "outputs": [
    {
     "data": {
      "image/png": "[encoded data removed]",
      "text/plain": [
       "<Figure size 800x600 with 2 Axes>"
      ]
     },
     "metadata": {},
     "output_type": "display_data"
    }
   ],
   "source": [
    "plt.figure(figsize=(8, 6))  # Adjust figure size for better readability\n",
    "sns.heatmap(matrix, annot=True, fmt=\".0f\", cmap=\"Blues\")\n",
    "plt.xlabel(\"Predicted Label\")\n",
    "plt.ylabel(\"True Label\")\n",
    "plt.title(\"Confusion Matrix\")\n",
    "plt.show()"
   ]
  },
  {
   "cell_type": "code",
   "execution_count": null,
   "id": "a6f39f9d-4bc4-4d90-83dd-04abf6a9abd0",
   "metadata": {},
   "outputs": [],
   "source": []
  }
 ],
 "metadata": {
  "kernelspec": {
   "display_name": "Python 3 (ipykernel)",
   "language": "python",
   "name": "python3"
  },
  "language_info": {
   "codemirror_mode": {
    "name": "ipython",
    "version": 3
   },
   "file_extension": ".py",
   "mimetype": "text/x-python",
   "name": "python",
   "nbconvert_exporter": "python",
   "pygments_lexer": "ipython3",
   "version": "3.10.11"
  }
 },
 "nbformat": 4,
 "nbformat_minor": 5
}
