{
 "cells": [
  {
   "cell_type": "code",
   "execution_count": 1,
   "id": "5a63916c-c291-4d2c-b364-614bf6cc5841",
   "metadata": {},
   "outputs": [],
   "source": [
    "import tensorflow as tf \n",
    "from tensorflow.keras.datasets import fashion_mnist \n",
    "from tensorflow.keras.models import Sequential \n",
    "from tensorflow.keras.layers import Conv2D, MaxPooling2D, Flatten, Dense \n",
    "from tensorflow.keras.utils import to_categorical\n",
    "import numpy as np"
   ]
  },
  {
   "cell_type": "code",
   "execution_count": 2,
   "id": "939bb442-ad90-45a4-8bbe-318300226c93",
   "metadata": {},
   "outputs": [],
   "source": [
    "(X_train, y_train), (X_test, y_test) = fashion_mnist.load_data() "
   ]
  },
  {
   "cell_type": "code",
   "execution_count": 3,
   "id": "e53f7e04-a30e-4266-a3ee-2aa7e48f4999",
   "metadata": {},
   "outputs": [
    {
     "data": {
      "text/plain": [
       "array([[[  0,   0,   0,   0,   0,   0,   0,   0,   0,   0,   0,   0,\n",
       "           0,   0,   0,   0,   0,   0,   0,   0,   0,   0,   0,   0,\n",
       "           0,   0,   0,   0],\n",
       "        [  0,   0,   0,   0,   0,   0,   0,   0,   0,   0,   0,   0,\n",
       "           0,   0,   0,   0,   0,   0,   0,   0,   0,   0,   0,   0,\n",
       "           0,   0,   0,   0],\n",
       "        [  0,   0,   0,   0,   0,   0,   0,   0,   0,   0,   0,   0,\n",
       "           0,   0,   0,   0,   0,   0,   0,   0,   0,   0,   0,   0,\n",
       "           0,   0,   0,   0],\n",
       "        [  0,   0,   0,   0,   0,   0,   0,   0,   0,   0,   0,   0,\n",
       "           1,   0,   0,  13,  73,   0,   0,   1,   4,   0,   0,   0,\n",
       "           0,   1,   1,   0],\n",
       "        [  0,   0,   0,   0,   0,   0,   0,   0,   0,   0,   0,   0,\n",
       "           3,   0,  36, 136, 127,  62,  54,   0,   0,   0,   1,   3,\n",
       "           4,   0,   0,   3],\n",
       "        [  0,   0,   0,   0,   0,   0,   0,   0,   0,   0,   0,   0,\n",
       "           6,   0, 102, 204, 176, 134, 144, 123,  23,   0,   0,   0,\n",
       "           0,  12,  10,   0],\n",
       "        [  0,   0,   0,   0,   0,   0,   0,   0,   0,   0,   0,   0,\n",
       "           0,   0, 155, 236, 207, 178, 107, 156, 161, 109,  64,  23,\n",
       "          77, 130,  72,  15],\n",
       "        [  0,   0,   0,   0,   0,   0,   0,   0,   0,   0,   0,   1,\n",
       "           0,  69, 207, 223, 218, 216, 216, 163, 127, 121, 122, 146,\n",
       "         141,  88, 172,  66],\n",
       "        [  0,   0,   0,   0,   0,   0,   0,   0,   0,   1,   1,   1,\n",
       "           0, 200, 232, 232, 233, 229, 223, 223, 215, 213, 164, 127,\n",
       "         123, 196, 229,   0],\n",
       "        [  0,   0,   0,   0,   0,   0,   0,   0,   0,   0,   0,   0,\n",
       "           0, 183, 225, 216, 223, 228, 235, 227, 224, 222, 224, 221,\n",
       "         223, 245, 173,   0],\n",
       "        [  0,   0,   0,   0,   0,   0,   0,   0,   0,   0,   0,   0,\n",
       "           0, 193, 228, 218, 213, 198, 180, 212, 210, 211, 213, 223,\n",
       "         220, 243, 202,   0],\n",
       "        [  0,   0,   0,   0,   0,   0,   0,   0,   0,   1,   3,   0,\n",
       "          12, 219, 220, 212, 218, 192, 169, 227, 208, 218, 224, 212,\n",
       "         226, 197, 209,  52],\n",
       "        [  0,   0,   0,   0,   0,   0,   0,   0,   0,   0,   6,   0,\n",
       "          99, 244, 222, 220, 218, 203, 198, 221, 215, 213, 222, 220,\n",
       "         245, 119, 167,  56],\n",
       "        [  0,   0,   0,   0,   0,   0,   0,   0,   0,   4,   0,   0,\n",
       "          55, 236, 228, 230, 228, 240, 232, 213, 218, 223, 234, 217,\n",
       "         217, 209,  92,   0],\n",
       "        [  0,   0,   1,   4,   6,   7,   2,   0,   0,   0,   0,   0,\n",
       "         237, 226, 217, 223, 222, 219, 222, 221, 216, 223, 229, 215,\n",
       "         218, 255,  77,   0],\n",
       "        [  0,   3,   0,   0,   0,   0,   0,   0,   0,  62, 145, 204,\n",
       "         228, 207, 213, 221, 218, 208, 211, 218, 224, 223, 219, 215,\n",
       "         224, 244, 159,   0],\n",
       "        [  0,   0,   0,   0,  18,  44,  82, 107, 189, 228, 220, 222,\n",
       "         217, 226, 200, 205, 211, 230, 224, 234, 176, 188, 250, 248,\n",
       "         233, 238, 215,   0],\n",
       "        [  0,  57, 187, 208, 224, 221, 224, 208, 204, 214, 208, 209,\n",
       "         200, 159, 245, 193, 206, 223, 255, 255, 221, 234, 221, 211,\n",
       "         220, 232, 246,   0],\n",
       "        [  3, 202, 228, 224, 221, 211, 211, 214, 205, 205, 205, 220,\n",
       "         240,  80, 150, 255, 229, 221, 188, 154, 191, 210, 204, 209,\n",
       "         222, 228, 225,   0],\n",
       "        [ 98, 233, 198, 210, 222, 229, 229, 234, 249, 220, 194, 215,\n",
       "         217, 241,  65,  73, 106, 117, 168, 219, 221, 215, 217, 223,\n",
       "         223, 224, 229,  29],\n",
       "        [ 75, 204, 212, 204, 193, 205, 211, 225, 216, 185, 197, 206,\n",
       "         198, 213, 240, 195, 227, 245, 239, 223, 218, 212, 209, 222,\n",
       "         220, 221, 230,  67],\n",
       "        [ 48, 203, 183, 194, 213, 197, 185, 190, 194, 192, 202, 214,\n",
       "         219, 221, 220, 236, 225, 216, 199, 206, 186, 181, 177, 172,\n",
       "         181, 205, 206, 115],\n",
       "        [  0, 122, 219, 193, 179, 171, 183, 196, 204, 210, 213, 207,\n",
       "         211, 210, 200, 196, 194, 191, 195, 191, 198, 192, 176, 156,\n",
       "         167, 177, 210,  92],\n",
       "        [  0,   0,  74, 189, 212, 191, 175, 172, 175, 181, 185, 188,\n",
       "         189, 188, 193, 198, 204, 209, 210, 210, 211, 188, 188, 194,\n",
       "         192, 216, 170,   0],\n",
       "        [  2,   0,   0,   0,  66, 200, 222, 237, 239, 242, 246, 243,\n",
       "         244, 221, 220, 193, 191, 179, 182, 182, 181, 176, 166, 168,\n",
       "          99,  58,   0,   0],\n",
       "        [  0,   0,   0,   0,   0,   0,   0,  40,  61,  44,  72,  41,\n",
       "          35,   0,   0,   0,   0,   0,   0,   0,   0,   0,   0,   0,\n",
       "           0,   0,   0,   0],\n",
       "        [  0,   0,   0,   0,   0,   0,   0,   0,   0,   0,   0,   0,\n",
       "           0,   0,   0,   0,   0,   0,   0,   0,   0,   0,   0,   0,\n",
       "           0,   0,   0,   0],\n",
       "        [  0,   0,   0,   0,   0,   0,   0,   0,   0,   0,   0,   0,\n",
       "           0,   0,   0,   0,   0,   0,   0,   0,   0,   0,   0,   0,\n",
       "           0,   0,   0,   0]]], dtype=uint8)"
      ]
     },
     "execution_count": 3,
     "metadata": {},
     "output_type": "execute_result"
    }
   ],
   "source": [
    "X_train[:1]"
   ]
  },
  {
   "cell_type": "code",
   "execution_count": 4,
   "id": "4f7f03f5-749e-4f1e-9eb5-ac4835b9dd82",
   "metadata": {},
   "outputs": [],
   "source": [
    "n_cat = len(np.unique(y_test))"
   ]
  },
  {
   "cell_type": "code",
   "execution_count": 5,
   "id": "96d6a673-ad93-4878-9324-e8090c1762ab",
   "metadata": {},
   "outputs": [],
   "source": [
    "X_train = X_train.reshape(-1, 28, 28, 1)\n",
    "X_test = X_test.reshape(-1, 28, 28, 1) \n",
    "y_train = to_categorical(y_train, n_cat) \n",
    "y_test = to_categorical(y_test, n_cat) "
   ]
  },
  {
   "cell_type": "code",
   "execution_count": 6,
   "id": "c720cfbc-da1e-42c1-ac0c-1cec58a734c3",
   "metadata": {},
   "outputs": [
    {
     "name": "stderr",
     "output_type": "stream",
     "text": [
      "C:\\Users\\patil\\tf-env\\lib\\site-packages\\keras\\src\\layers\\convolutional\\base_conv.py:107: UserWarning: Do not pass an `input_shape`/`input_dim` argument to a layer. When using Sequential models, prefer using an `Input(shape)` object as the first layer in the model instead.\n",
      "  super().__init__(activity_regularizer=activity_regularizer, **kwargs)\n"
     ]
    }
   ],
   "source": [
    "model = Sequential([ \n",
    "Conv2D(32, (3,3), activation='relu', input_shape=(28,28,1)), \n",
    "MaxPooling2D((2,2)), \n",
    "Conv2D(64, (3,3), \n",
    "activation='relu'), \n",
    "MaxPooling2D((2,2)), \n",
    "Flatten(), \n",
    "Dense(128, activation='relu'), \n",
    "Dense(n_cat, activation='softmax')])"
   ]
  },
  {
   "cell_type": "code",
   "execution_count": 7,
   "id": "cf3c654b-7832-43fe-b416-3e5276449b25",
   "metadata": {},
   "outputs": [],
   "source": [
    "model.compile(optimizer='adam', loss='categorical_crossentropy', metrics=['accuracy']) "
   ]
  },
  {
   "cell_type": "code",
   "execution_count": 8,
   "id": "02b3eccc-92a8-4ef0-bf24-35d557b2fb64",
   "metadata": {},
   "outputs": [
    {
     "name": "stdout",
     "output_type": "stream",
     "text": [
      "Epoch 1/5\n",
      "\u001b[1m938/938\u001b[0m \u001b[32m━━━━━━━━━━━━━━━━━━━━\u001b[0m\u001b[37m\u001b[0m \u001b[1m43s\u001b[0m 43ms/step - accuracy: 0.7361 - loss: 3.1244 - val_accuracy: 0.8506 - val_loss: 0.4091\n",
      "Epoch 2/5\n",
      "\u001b[1m938/938\u001b[0m \u001b[32m━━━━━━━━━━━━━━━━━━━━\u001b[0m\u001b[37m\u001b[0m \u001b[1m39s\u001b[0m 41ms/step - accuracy: 0.8701 - loss: 0.3624 - val_accuracy: 0.8750 - val_loss: 0.3535\n",
      "Epoch 3/5\n",
      "\u001b[1m938/938\u001b[0m \u001b[32m━━━━━━━━━━━━━━━━━━━━\u001b[0m\u001b[37m\u001b[0m \u001b[1m44s\u001b[0m 45ms/step - accuracy: 0.8866 - loss: 0.3040 - val_accuracy: 0.8743 - val_loss: 0.3396\n",
      "Epoch 4/5\n",
      "\u001b[1m938/938\u001b[0m \u001b[32m━━━━━━━━━━━━━━━━━━━━\u001b[0m\u001b[37m\u001b[0m \u001b[1m82s\u001b[0m 45ms/step - accuracy: 0.8990 - loss: 0.2689 - val_accuracy: 0.8811 - val_loss: 0.3237\n",
      "Epoch 5/5\n",
      "\u001b[1m938/938\u001b[0m \u001b[32m━━━━━━━━━━━━━━━━━━━━\u001b[0m\u001b[37m\u001b[0m \u001b[1m79s\u001b[0m 42ms/step - accuracy: 0.9052 - loss: 0.2492 - val_accuracy: 0.8837 - val_loss: 0.3291\n"
     ]
    },
    {
     "data": {
      "text/plain": [
       "<keras.src.callbacks.history.History at 0x2394e845cc0>"
      ]
     },
     "execution_count": 8,
     "metadata": {},
     "output_type": "execute_result"
    }
   ],
   "source": [
    "model.fit(X_train, y_train, epochs=5, batch_size=64, validation_data=(X_test, y_test))"
   ]
  },
  {
   "cell_type": "code",
   "execution_count": 9,
   "id": "956bd15c-cc5c-467c-b446-2185f20cdebd",
   "metadata": {},
   "outputs": [
    {
     "name": "stdout",
     "output_type": "stream",
     "text": [
      "\u001b[1m313/313\u001b[0m \u001b[32m━━━━━━━━━━━━━━━━━━━━\u001b[0m\u001b[37m\u001b[0m \u001b[1m5s\u001b[0m 14ms/step - accuracy: 0.8865 - loss: 0.3281\n",
      "Test Accuracy: 0.8837000131607056\n"
     ]
    }
   ],
   "source": [
    "test_loss, test_acc = model.evaluate(X_test, y_test) \n",
    "print(f\"Test Accuracy: {test_acc}\") "
   ]
  },
  {
   "cell_type": "code",
   "execution_count": 10,
   "id": "84c0c189-34ed-42aa-9264-9f79a14403a0",
   "metadata": {},
   "outputs": [],
   "source": [
    "import matplotlib.pyplot as plt"
   ]
  },
  {
   "cell_type": "code",
   "execution_count": 11,
   "id": "d81d1a08-558d-41e8-ba5a-9d3abdaa6ed1",
   "metadata": {},
   "outputs": [
    {
     "data": {
      "text/plain": [
       "<matplotlib.image.AxesImage at 0x2395298ebc0>"
      ]
     },
     "execution_count": 11,
     "metadata": {},
     "output_type": "execute_result"
    },
    {
     "data": {
      "image/png": "[encoded data removed]",
      "text/plain": [
       "<Figure size 640x480 with 1 Axes>"
      ]
     },
     "metadata": {},
     "output_type": "display_data"
    }
   ],
   "source": [
    "plt.imshow(X_test[5].reshape(28,28))"
   ]
  },
  {
   "cell_type": "code",
   "execution_count": 12,
   "id": "b62d73cf-d6ff-4870-ba08-cd40d8a98894",
   "metadata": {},
   "outputs": [
    {
     "name": "stdout",
     "output_type": "stream",
     "text": [
      "\u001b[1m1/1\u001b[0m \u001b[32m━━━━━━━━━━━━━━━━━━━━\u001b[0m\u001b[37m\u001b[0m \u001b[1m0s\u001b[0m 199ms/step\n"
     ]
    }
   ],
   "source": [
    "pred = model.predict(X_test[5].reshape(-1,28,28,1))"
   ]
  },
  {
   "cell_type": "code",
   "execution_count": 13,
   "id": "8cb0faa1-28f3-4a2b-9b7f-897655bcfa6d",
   "metadata": {},
   "outputs": [
    {
     "data": {
      "text/plain": [
       "np.int64(1)"
      ]
     },
     "execution_count": 13,
     "metadata": {},
     "output_type": "execute_result"
    }
   ],
   "source": [
    "ans = np.argmax(pred)\n",
    "ans"
   ]
  },
  {
   "cell_type": "code",
   "execution_count": 14,
   "id": "0de22d87-63b8-4386-91b3-e1bf0c020b6a",
   "metadata": {},
   "outputs": [
    {
     "data": {
      "text/plain": [
       "np.int64(1)"
      ]
     },
     "execution_count": 14,
     "metadata": {},
     "output_type": "execute_result"
    }
   ],
   "source": [
    "org = np.argmax(y_test[5])\n",
    "org"
   ]
  },
  {
   "cell_type": "code",
   "execution_count": null,
   "id": "6ba9e991-8119-4681-9234-b94bbc56ef41",
   "metadata": {},
   "outputs": [],
   "source": []
  },
  {
   "cell_type": "code",
   "execution_count": null,
   "id": "bb9b5640-ece2-45d9-b43d-dfb21ebef9e8",
   "metadata": {},
   "outputs": [],
   "source": []
  }
 ],
 "metadata": {
  "kernelspec": {
   "display_name": "Python 3 (ipykernel)",
   "language": "python",
   "name": "python3"
  },
  "language_info": {
   "codemirror_mode": {
    "name": "ipython",
    "version": 3
   },
   "file_extension": ".py",
   "mimetype": "text/x-python",
   "name": "python",
   "nbconvert_exporter": "python",
   "pygments_lexer": "ipython3",
   "version": "3.10.11"
  }
 },
 "nbformat": 4,
 "nbformat_minor": 5
}
